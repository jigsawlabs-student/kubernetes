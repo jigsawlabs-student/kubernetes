{
 "cells": [
  {
   "cell_type": "markdown",
   "metadata": {},
   "source": [
    "# External Services Lab"
   ]
  },
  {
   "cell_type": "markdown",
   "metadata": {},
   "source": [
    "### Introduction"
   ]
  },
  {
   "cell_type": "markdown",
   "metadata": {},
   "source": [
    "In this lesson, we'll use what we learned about ingress services to allow external access to our cluster.  Let's get started."
   ]
  },
  {
   "cell_type": "markdown",
   "metadata": {},
   "source": [
    "### Setting it Up"
   ]
  },
  {
   "cell_type": "markdown",
   "metadata": {},
   "source": [
    "Now, if you have not yet installed the ingress-nginx service,  now is a good time.  Remember that the documentation for doing so is available [here](https://github.com/kubernetes/ingress-nginx/blob/master/docs/deploy/index.md).  \n",
    "\n",
    "We first run: \n",
    "\n",
    "`minikube addons enable ingress`\n",
    "\n",
    "And then run: \n",
    "```bash\n",
    "kubectl apply -f https://raw.githubusercontent.com/kubernetes/ingress-nginx/controller-v0.43.0/deploy/static/provider/baremetal/deploy.yaml\n",
    "```\n",
    "\n",
    "Then confirm that the services are running with:\n",
    "```bash\n",
    "kubectl get pods -n ingress-nginx \\\n",
    "  -l app.kubernetes.io/name=ingress-nginx --watch\n",
    "```"
   ]
  },
  {
   "cell_type": "markdown",
   "metadata": {},
   "source": [
    "### Connecting our Frontend"
   ]
  },
  {
   "cell_type": "markdown",
   "metadata": {},
   "source": [
    "Now this time, we would like to allow users to reach our frontend streamlit application.  To do this, we should first create a `frontend-deployment-service` so that we can enable access to any of our client pods.\n",
    "\n",
    "So let's get started by checking to ensure that this deployment with streamlit exists, then we can create the corresponding service.\n",
    "\n",
    "> Check the deployments."
   ]
  },
  {
   "cell_type": "markdown",
   "metadata": {},
   "source": [
    "> ```bash\n",
    "NAME                  READY   UP-TO-DATE   AVAILABLE   AGE\n",
    "api-deployment        2/2     2            2           19h\n",
    "frontend-deployment   2/2     2            2           20h\n",
    "```"
   ]
  },
  {
   "cell_type": "markdown",
   "metadata": {},
   "source": [
    "Now let's confirm that the `api-deployment` already has an ClusterIP service, to allow for internal connections to the relevant pods.  "
   ]
  },
  {
   "cell_type": "markdown",
   "metadata": {},
   "source": [
    "```bash\n",
    "kubectl get services\n",
    "NAME                     TYPE        CLUSTER-IP      EXTERNAL-IP   PORT(S)    AGE\n",
    "api-deployment-service   ClusterIP   10.97.229.151   <none>        5000/TCP   20h\n",
    "kubernetes               ClusterIP   10.96.0.1       <none>        443/TCP    20h\n",
    "```"
   ]
  },
  {
   "cell_type": "markdown",
   "metadata": {},
   "source": [
    "Ok, but now it's time to do the same for the frontend-deployment."
   ]
  },
  {
   "cell_type": "markdown",
   "metadata": {},
   "source": [
    "Set the name of the service to `frontend-deployment-service` and make sure that the ports are setup properly to connect to streamlit (check the relevant Dockerfile if you are not sure what port to connect to).\n",
    "\n",
    "Now let's confirm that we now have *internal* access to the pods hosting streamlit.  Connect to the shell of one of the containers in the api deployment, and then from there make a curl request to streamlit."
   ]
  },
  {
   "cell_type": "markdown",
   "metadata": {},
   "source": [
    "> We should see the following."
   ]
  },
  {
   "cell_type": "markdown",
   "metadata": {},
   "source": [
    "> <img src=\"./curl-frontend.png\" width=\"60%\">"
   ]
  },
  {
   "cell_type": "markdown",
   "metadata": {},
   "source": [
    "### Creating the Ingress"
   ]
  },
  {
   "cell_type": "markdown",
   "metadata": {},
   "source": [
    "Now it's time to create our ingress.  We can write the configuration in the `ingress-service.yaml` file.  And this time, and simply name the service `ingress-service`.  \n",
    "\n",
    "Make sure that requests are routed to the `frontend-deployment-service` and connect to the correct service port.  To confirm that it is done correctly, find the minikube ip address, and visit the url.  \n",
    "\n",
    "We should see something like the following:"
   ]
  },
  {
   "cell_type": "markdown",
   "metadata": {},
   "source": [
    "<img src=\"./working-application.png\" width=\"40%\">"
   ]
  },
  {
   "cell_type": "markdown",
   "metadata": {},
   "source": [
    "### Adding API access"
   ]
  },
  {
   "cell_type": "markdown",
   "metadata": {},
   "source": [
    "We may also like to expose our API.  We can do so by adding another path that has any visits to `/api` point to the api service.  So add another path that listens for requests to the following: \n",
    "\n",
    "```yaml\n",
    "- path: /api/?(.*)\n",
    "```\n",
    "\n",
    "After setting up the path, we'll need to add one more line to our `annotations` section so that it looks like the following:\n",
    "\n",
    "```yaml\n",
    "  annotations:\n",
    "    kubernetes.io/ingress.class: nginx\n",
    "    nginx.ingress.kubernetes.io/use-regex: 'true'\n",
    "    nginx.ingress.kubernetes.io/rewrite-target: /$1\n",
    "```\n",
    "\n",
    "The new line will take a request like `/api/restaurants` and change it to `/restaurants`.  In other words, it will only capture the what is after the second `/`.  We add this in so that we can externally make requests to /api, but we will not need to prepend our routes with `/api` in Flask."
   ]
  },
  {
   "cell_type": "markdown",
   "metadata": {},
   "source": [
    "If you can visit `/api` and see the corresponding json, your work is done."
   ]
  },
  {
   "cell_type": "markdown",
   "metadata": {},
   "source": [
    "### Resources\n",
    "[Debug Services](https://kubernetes.io/docs/tasks/debug-application-cluster/debug-service/)\n",
    "\n",
    "[K8s Workflow](https://www.getambassador.io/resources/dev-workflow-intro/)\n",
    "\n",
    "[Telepresence](https://www.telepresence.io/tutorials/kubernetes-rapid)\n",
    "\n"
   ]
  }
 ],
 "metadata": {
  "kernelspec": {
   "display_name": "Python 3",
   "language": "python",
   "name": "python3"
  },
  "language_info": {
   "codemirror_mode": {
    "name": "ipython",
    "version": 3
   },
   "file_extension": ".py",
   "mimetype": "text/x-python",
   "name": "python",
   "nbconvert_exporter": "python",
   "pygments_lexer": "ipython3",
   "version": "3.9.1"
  }
 },
 "nbformat": 4,
 "nbformat_minor": 4
}
