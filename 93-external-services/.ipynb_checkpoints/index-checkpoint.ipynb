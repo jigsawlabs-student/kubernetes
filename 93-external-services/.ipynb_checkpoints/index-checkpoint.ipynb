{
 "cells": [
  {
   "cell_type": "markdown",
   "metadata": {},
   "source": [
    "# External Services"
   ]
  },
  {
   "cell_type": "markdown",
   "metadata": {},
   "source": [
    "### Introduction"
   ]
  },
  {
   "cell_type": "markdown",
   "metadata": {},
   "source": [
    "In previous lessons, we allowed other objects (here pods) to connect to a group of pods in our cluster through a Kubernetes service.  Specifically, we used a `ClusterIP` service.  But we cannot use a ClusterIP service to expose any of our application externally.  Instead, to enable access to our cluster from an external client, we'll use an ingress service."
   ]
  },
  {
   "cell_type": "markdown",
   "metadata": {},
   "source": [
    "### Ingress Services"
   ]
  },
  {
   "cell_type": "markdown",
   "metadata": {},
   "source": [
    "Let's take a look at the new structure of our Kubernetes cluster, now that we'll have an ingress service. Traffic will come in and hit our ingress and from there visit the designated service, followed by one of the related pods."
   ]
  },
  {
   "cell_type": "markdown",
   "metadata": {},
   "source": [
    "<img src=\"./with-ingress.jpg\" width=\"40%\">"
   ]
  },
  {
   "cell_type": "markdown",
   "metadata": {},
   "source": [
    "So in the diagram above, a client -- that is, a web browser -- will make a request to our ingress service.  Then the ingress will reach the frontend service, which will route to one of the relevant pods.  "
   ]
  },
  {
   "cell_type": "markdown",
   "metadata": {},
   "source": [
    "Above is the general structure for setting up an ingress.  But we'll leave that to you in a lab.  For this lesson, we'll setup an ingress that directly connects to our api, through our api-service."
   ]
  },
  {
   "cell_type": "markdown",
   "metadata": {},
   "source": [
    "<img src=\"./ingress-api.jpg\" width=\"40%\">"
   ]
  },
  {
   "cell_type": "markdown",
   "metadata": {},
   "source": [
    "### Installing the Ingress"
   ]
  },
  {
   "cell_type": "markdown",
   "metadata": {},
   "source": [
    "The ingress service we'll be using, `Nginx ingress` is not automatically included with kubernetes.  The documentation for installing the ingress available [here](https://github.com/kubernetes/ingress-nginx/blob/master/docs/deploy/index.md).\n",
    "\n",
    "> You may have previously worked with Nginx as it's a very popular web server.  This Ingress Service will effectively create a pod with Nginx installed in it, and with settings configured to work with our Kubernetes cluster.  \n",
    "\n",
    "To install the service, follow the steps below.  First, we run:\n",
    "\n",
    "`minikube addons enable ingress`\n",
    "\n",
    "Followed by:\n",
    "\n",
    "```bash\n",
    "kubectl apply -f https://raw.githubusercontent.com/kubernetes/ingress-nginx/controller-v0.43.0/deploy/static/provider/baremetal/deploy.yaml\n",
    "```"
   ]
  },
  {
   "cell_type": "markdown",
   "metadata": {},
   "source": [
    "We can confirm that the services are running with:\n",
    "\n",
    "```bash\n",
    "kubectl get pods -n ingress-nginx \\\n",
    "  -l app.kubernetes.io/name=ingress-nginx --watch\n",
    "```"
   ]
  },
  {
   "cell_type": "markdown",
   "metadata": {},
   "source": [
    "### Building the Ingress"
   ]
  },
  {
   "cell_type": "markdown",
   "metadata": {},
   "source": [
    "Next, let's move on towards writing Kubernetes configuration file.  This time, we use the `networking.k8s.io/v1beta1` api to build a service of type `Ingress`.\n",
    "\n",
    "Under the `metadata` key below, we'll see a new key for `annotations`.  Annotations are essentially where we'll place configuration data for services related to the config.  So here, the ingress class specifies to setup the contiguration in Kubernetes for Nginx Ingress (as we set `kubernetes.io/ingress.class: nginx`).  And because in Nginx we'll be using `regex`, we then set `use-regex` to True.\n",
    "\n",
    "> In the next paragraph we'll explain the `spec`."
   ]
  },
  {
   "cell_type": "markdown",
   "metadata": {},
   "source": [
    "```yaml\n",
    "apiVersion: networking.k8s.io/v1beta1\n",
    "kind: Ingress\n",
    "metadata:\n",
    "  name: ingress-service\n",
    "  annotations:\n",
    "    kubernetes.io/ingress.class: nginx\n",
    "    # tells kubernetes to create an ingress controller based on nginx project\n",
    "    nginx.ingress.kubernetes.io/use-regex: 'true'\n",
    "    # allows for use of regex\n",
    "spec:\n",
    "  rules:\n",
    "    - http:\n",
    "        paths:\n",
    "          - path: /?(.*)\n",
    "            backend:\n",
    "              serviceName: api-deployment-service\n",
    "              servicePort: 5000\n",
    "```"
   ]
  },
  {
   "cell_type": "markdown",
   "metadata": {},
   "source": [
    "Now in the spec section we can see that we are setting up the routing for Nginx.  We do this through: \n",
    "\n",
    "```yaml\n",
    "spec:\n",
    "  rules:\n",
    "    - http:\n",
    "        paths:\n",
    "```"
   ]
  },
  {
   "cell_type": "markdown",
   "metadata": {},
   "source": [
    "Then we specify each of our paths, and the service we wish to route them to.  Above we specify that when the user makes a request to any route that has a `/` for the ingress to pass those requests along to the`api-deployment-service` to route to port 5000.  "
   ]
  },
  {
   "cell_type": "markdown",
   "metadata": {},
   "source": [
    "```yaml\n",
    "- path: /?(.*)\n",
    "            backend:\n",
    "              serviceName: api-deployment-service\n",
    "              servicePort: 5000\n",
    "```"
   ]
  },
  {
   "cell_type": "markdown",
   "metadata": {},
   "source": [
    "We can apply our service with `kubectl apply -f ingress-service.yaml`.  Ok, with our ingress setup we should now be able to make external requests to our cluster."
   ]
  },
  {
   "cell_type": "markdown",
   "metadata": {},
   "source": [
    "### Viewing our Service"
   ]
  },
  {
   "cell_type": "markdown",
   "metadata": {},
   "source": [
    "Now let's give it a shot.  We'll see if we can view our api from the browser.  \n",
    "\n",
    "So remember that our kubernetes cluster is located within a virtual machine setup in minikube.  We can find the ip address to our cluster with the command `minikube ip`."
   ]
  },
  {
   "cell_type": "markdown",
   "metadata": {},
   "source": [
    "```bash\n",
    "minikube ip\n",
    "\n",
    "192.168.64.5\n",
    "```"
   ]
  },
  {
   "cell_type": "markdown",
   "metadata": {},
   "source": [
    "And if we visit this ip address we should reach the ingress service, which routes requests to our `api-deployment-service`, which will route our request to one of the pods in the api deployment.  Let's check it out."
   ]
  },
  {
   "cell_type": "markdown",
   "metadata": {},
   "source": [
    "And so it is."
   ]
  },
  {
   "cell_type": "markdown",
   "metadata": {},
   "source": [
    "<img src=\"./view-restaurants.png\" width=\"70%\">"
   ]
  },
  {
   "cell_type": "markdown",
   "metadata": {},
   "source": [
    "### Summary"
   ]
  },
  {
   "cell_type": "markdown",
   "metadata": {},
   "source": [
    "In this lesson, we learned how to expose our cluster externally using an ingress service. Specifically, we used the [ingress nginx service](https://github.com/kubernetes/ingress-nginx/).  We first installed the service locally to kubernetes, and then wrote our configuration file.  "
   ]
  },
  {
   "cell_type": "markdown",
   "metadata": {},
   "source": [
    "```yaml\n",
    "apiVersion: networking.k8s.io/v1beta1\n",
    "kind: Ingress\n",
    "metadata:\n",
    "  name: ingress-service\n",
    "  annotations:\n",
    "    kubernetes.io/ingress.class: nginx\n",
    "    nginx.ingress.kubernetes.io/use-regex: 'true'\n",
    "spec:\n",
    "  rules:\n",
    "    - http:\n",
    "        paths:\n",
    "          - path: /?(.*)\n",
    "            backend:\n",
    "              serviceName: api-deployment-service\n",
    "              servicePort: 5000\n",
    "```"
   ]
  },
  {
   "cell_type": "markdown",
   "metadata": {},
   "source": [
    "Our file specifies to rout a request to `/` to our `api-deployment-service` on port 5000."
   ]
  },
  {
   "cell_type": "markdown",
   "metadata": {},
   "source": [
    "### Resources\n",
    "\n",
    "[Kubernetes Nginx](https://kubernetes.io/docs/concepts/services-networking/ingress/)"
   ]
  },
  {
   "cell_type": "markdown",
   "metadata": {},
   "source": [
    "[Ingress Nginx Github](https://github.com/kubernetes/ingress-nginx)\n",
    "\n",
    "[Kubernetes Ingress Blogpost](https://www.joyfulbikeshedding.com/blog/2018-03-26-studying-the-kubernetes-ingress-system.html)"
   ]
  }
 ],
 "metadata": {
  "kernelspec": {
   "display_name": "Python 3",
   "language": "python",
   "name": "python3"
  },
  "language_info": {
   "codemirror_mode": {
    "name": "ipython",
    "version": 3
   },
   "file_extension": ".py",
   "mimetype": "text/x-python",
   "name": "python",
   "nbconvert_exporter": "python",
   "pygments_lexer": "ipython3",
   "version": "3.9.1"
  }
 },
 "nbformat": 4,
 "nbformat_minor": 4
}
