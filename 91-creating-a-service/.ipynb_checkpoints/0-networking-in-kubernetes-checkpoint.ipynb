{
 "cells": [
  {
   "cell_type": "markdown",
   "metadata": {},
   "source": [
    "# Creating a Service"
   ]
  },
  {
   "cell_type": "markdown",
   "metadata": {},
   "source": [
    "### Introduction"
   ]
  },
  {
   "cell_type": "markdown",
   "metadata": {},
   "source": [
    "Now that we understand a bit about how networking works in Kubernetes.  Let's create a service.  Remember that we use a service to allow access to a group of pods.   In this lesson, we'll create an *internal service*, which will allow a pod from one deployment to access pods from a different deployment.  Let's go."
   ]
  },
  {
   "cell_type": "markdown",
   "metadata": {},
   "source": [
    "### Getting setup"
   ]
  },
  {
   "cell_type": "markdown",
   "metadata": {},
   "source": [
    "Now, we'll start from scratch by first creating our api-deployment which will setup our api pods.  Then we'll move onto the service.\n",
    "\n",
    "Our `api-deployment` config looks like the following:\n",
    "\n",
    "```yaml\n",
    "# api-deployment.yaml\n",
    "apiVersion: apps/v1\n",
    "kind: Deployment\n",
    "metadata:\n",
    "  name: api-deployment\n",
    "spec:\n",
    "  replicas: 2\n",
    "  selector:\n",
    "    matchLabels:\n",
    "      component: api\n",
    "  template:\n",
    "    metadata:\n",
    "      labels:\n",
    "        component: api\n",
    "    spec:\n",
    "      containers:\n",
    "        - name: flask-api\n",
    "          image: jek2141/flask_api\n",
    "          ports:\n",
    "          - containerPort: 3000\n",
    "```"
   ]
  },
  {
   "cell_type": "markdown",
   "metadata": {},
   "source": [
    "And after running `kubectl apply -f api-deployment.yaml`, we can see that the container port 3000 on the pod is exposed -- and this is where the flask api is running."
   ]
  },
  {
   "cell_type": "markdown",
   "metadata": {},
   "source": [
    "### Creating our Service"
   ]
  },
  {
   "cell_type": "markdown",
   "metadata": {},
   "source": [
    "Now, to make the pods in this deployment more easily accessible, we'll create our service.  "
   ]
  },
  {
   "cell_type": "markdown",
   "metadata": {},
   "source": [
    "<img src=\"./updated-ports.jpg\" width=\"60%\">"
   ]
  },
  {
   "cell_type": "markdown",
   "metadata": {},
   "source": [
    "Ok, let's take a look at the config file for the corresponding service."
   ]
  },
  {
   "cell_type": "markdown",
   "metadata": {},
   "source": [
    "```yaml\n",
    "apiVersion: v1\n",
    "kind: Service\n",
    "metadata:\n",
    "  name: api-cluster-ip-service\n",
    "spec:\n",
    "  type: ClusterIP\n",
    "  selector: \n",
    "    component: api\n",
    "  ports: \n",
    "    - port: 5000\n",
    "      targetPort: 5000\n",
    "```"
   ]
  },
  {
   "cell_type": "markdown",
   "metadata": {},
   "source": [
    "The first few lines are pretty typical: we specify:\n",
    "* `apiVersion: v1`: We are working with the core Kubernetes library \n",
    "* `kind: Service`: This is the component we are creating\n",
    "* `metadata: ` Here, we just specify the name.\n",
    "\n",
    "Let's more spend some more time discussing the rest of the config file.\n",
    "\n",
    "* **ClusterIP**\n",
    "    * So under `spec`, we specify a type of `ClusterIP`.  This is the type of service we use when allowing only requests internal to our cluster -- that is, requests from another pod -- to access our service.  We'll handle external requests later.\n",
    "    \n",
    "* **Selector**\n",
    "    * With selector, we specify the pods to forward the requests to.  Here we'll forward requests to those pods with the label of `component: api`.\n",
    "    \n",
    "* **Ports** \n",
    "    * Then, under ports we'll specify the port that the service will be listening on, `port`, and then port that it forwards requests to, `targetPort`.  So here we'll make a request to the service on port 3000, and service will forward the request to one of the pods with the label `api` on the targetPort of 3000."
   ]
  },
  {
   "cell_type": "markdown",
   "metadata": {},
   "source": [
    "> The port is the port that the api-service listens for requests on, and the targetPort is the port that it forwards requests to on the node.  We can see this with another look to our diagram."
   ]
  },
  {
   "cell_type": "markdown",
   "metadata": {},
   "source": [
    "<img src=\"./updated-ports.jpg\" width=\"60%\">"
   ]
  },
  {
   "cell_type": "markdown",
   "metadata": {},
   "source": [
    "### Trying it Out"
   ]
  },
  {
   "cell_type": "markdown",
   "metadata": {},
   "source": [
    "Ok, so now we'll deploy the service.  \n",
    "\n",
    "`kubectl apply -f api-service.yaml`"
   ]
  },
  {
   "cell_type": "markdown",
   "metadata": {},
   "source": [
    "If we run `kubectl describe service` we can see some of the setup."
   ]
  },
  {
   "cell_type": "markdown",
   "metadata": {},
   "source": [
    "<img src=\"./describe-service.png\" width=\"90%\">"
   ]
  },
  {
   "cell_type": "markdown",
   "metadata": {},
   "source": [
    "Under `IP` we see the virtual ip of the service.  And then, under endpoints, we see the ip addresses of pods  that it points to."
   ]
  },
  {
   "cell_type": "markdown",
   "metadata": {},
   "source": [
    "Ok, now we can only make requests to this service from inside the cluster.  So let's create deploy another set of pods from which we can make a request to the api service.  \n",
    "\n",
    "```yaml\n",
    "apiVersion: apps/v1\n",
    "kind: Deployment\n",
    "metadata:\n",
    "  name: flask-deployment\n",
    "spec:\n",
    "  replicas: 2\n",
    "  selector:\n",
    "    matchLabels:\n",
    "      component: flask\n",
    "  template:\n",
    "    metadata:\n",
    "      labels:\n",
    "        component: flask\n",
    "    spec:\n",
    "      containers:\n",
    "        - name: flask-api\n",
    "          image: jek2141/apartments_api\n",
    "          ports:\n",
    "          - containerPort: 3000\n",
    "```"
   ]
  },
  {
   "cell_type": "markdown",
   "metadata": {},
   "source": [
    "`kubectl apply -f flask-deployment.yaml`"
   ]
  },
  {
   "cell_type": "markdown",
   "metadata": {},
   "source": [
    "> This also runs a flask app, but we're just going to use ensure we can make a request to the api service from a pod."
   ]
  },
  {
   "cell_type": "markdown",
   "metadata": {},
   "source": [
    "Then we'll connect to one of the flask deployment pods, and see if we can make a request to our service."
   ]
  },
  {
   "cell_type": "markdown",
   "metadata": {},
   "source": [
    "`kubectl exec -it flask-deployment-5fffd7fc6c-9mr9r`"
   ]
  },
  {
   "cell_type": "markdown",
   "metadata": {},
   "source": [
    "> Once connected to our flask deployment pod, try to make a request to the service via `wget api-deployment-service:5000/restaurants`."
   ]
  },
  {
   "cell_type": "markdown",
   "metadata": {},
   "source": [
    "<img src=\"./connect-to-service.png\" width=\"90%\">"
   ]
  },
  {
   "cell_type": "markdown",
   "metadata": {},
   "source": [
    "It looks like that worked!  Notice that we made the request just by specifying the name of the service, `api-deployment-service:5000/restaurants`.  This routed a request to one of our pods and the pod sent back the response to the api-deployment pod, as we can see above."
   ]
  },
  {
   "cell_type": "markdown",
   "metadata": {},
   "source": [
    "### Summary"
   ]
  },
  {
   "cell_type": "markdown",
   "metadata": {},
   "source": [
    "In this lesson, we saw how to both create and connect to our service.  We created a clusterIP service, and then specified both the selector -- that is the pods to forward the requests onto, and the ports.  With the ports we specified the port of the service to connect to and the `targetPort` of the pods.  \n",
    "\n",
    "Then we connected to a pod in a different deployment and made a request to our new service using the pattern of `wget domain-name:port_number/url`."
   ]
  }
 ],
 "metadata": {
  "kernelspec": {
   "display_name": "Python 3",
   "language": "python",
   "name": "python3"
  },
  "language_info": {
   "codemirror_mode": {
    "name": "ipython",
    "version": 3
   },
   "file_extension": ".py",
   "mimetype": "text/x-python",
   "name": "python",
   "nbconvert_exporter": "python",
   "pygments_lexer": "ipython3",
   "version": "3.9.1"
  }
 },
 "nbformat": 4,
 "nbformat_minor": 4
}
