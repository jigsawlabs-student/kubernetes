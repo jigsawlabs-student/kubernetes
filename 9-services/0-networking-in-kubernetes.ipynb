{
 "cells": [
  {
   "cell_type": "markdown",
   "metadata": {},
   "source": [
    "# Internal Networking in Kubernetes"
   ]
  },
  {
   "cell_type": "markdown",
   "metadata": {},
   "source": [
    "### Introduction"
   ]
  },
  {
   "cell_type": "markdown",
   "metadata": {},
   "source": [
    "Now so far, we have learned how to launch different pods, and groups of pods in deployments.  However we have not learned how to communicate with those pods.  For example, how would our frontend pod be able to connect to one of the backend pods. That's what we'll discuss in this lesson."
   ]
  },
  {
   "cell_type": "markdown",
   "metadata": {},
   "source": [
    "### Setting it Up"
   ]
  },
  {
   "cell_type": "markdown",
   "metadata": {},
   "source": [
    "In previous lessons, we first created a **pod**, and then we learned how to create a **deployment** to manage multiple replicas of a pod.  \n",
    "\n",
    "Now let's start creating a collection of frontend pods and then get them to communicate with our backend pods.  To start, of course, we'll just create another deployment for our frontend service -- that part isn't so difficult.  "
   ]
  },
  {
   "cell_type": "markdown",
   "metadata": {},
   "source": [
    "```yaml\n",
    "apiVersion: apps/v1\n",
    "kind: Deployment\n",
    "metadata:\n",
    "  name: frontend-deployment\n",
    "spec:\n",
    "  replicas: 2\n",
    "  selector:\n",
    "    matchLabels:\n",
    "      component: frontend\n",
    "  template:\n",
    "    metadata:\n",
    "      labels:\n",
    "        component: frontend\n",
    "    spec:\n",
    "      containers:\n",
    "        - name: restaurants-frontend\n",
    "          image: jek2141/restaurants_frontend\n",
    "          ports:\n",
    "          - containerPort: 8501\n",
    "```"
   ]
  },
  {
   "cell_type": "markdown",
   "metadata": {},
   "source": [
    "But how do we connect our front end application with our backend api?  "
   ]
  },
  {
   "cell_type": "markdown",
   "metadata": {},
   "source": [
    "### Networking through ip addresses"
   ]
  },
  {
   "cell_type": "markdown",
   "metadata": {},
   "source": [
    "When working in AWS, we could do this simply by telling each application of the other's ip address.  So if we wanted the frontend application to connect to the api, we simply found out the backend's ip address, and then wrote something like the following. \n",
    "\n",
    "```python\n",
    "import requests\n",
    "backend_ip = 'http://192.168.99.100:5000'\n",
    "response = requests.get(backend_ip)\n",
    "response.json()\n",
    "```"
   ]
  },
  {
   "cell_type": "markdown",
   "metadata": {},
   "source": [
    "Now Kubernetes, we *could in theory* do the same thing.  This is because in Kubernetes each pod on each node given is also given it's own ip address.  Let's take through the `describe pods` command."
   ]
  },
  {
   "cell_type": "markdown",
   "metadata": {},
   "source": [
    "<img src=\"./ip-address-pod.png\" width=\"70%\">"
   ]
  },
  {
   "cell_type": "markdown",
   "metadata": {},
   "source": [
    "> See that line at the bottom?  That is the ip address of the pod."
   ]
  },
  {
   "cell_type": "markdown",
   "metadata": {},
   "source": [
    "Ok, now let's see this in a diagram.  Below, we have two different nodes, and our API pods and Frontend pods just happen to be spread across these nodes.  As we can see, each pod is given a separate ip address."
   ]
  },
  {
   "cell_type": "markdown",
   "metadata": {},
   "source": [
    "<img src=\"./pod-ips-colors.jpg\" width=\"70%\">"
   ]
  },
  {
   "cell_type": "markdown",
   "metadata": {},
   "source": [
    "Take a closer look at those ip addresses.  Notice that the pods in node 1 share similar ip addresses, as do the pods in node 2.  Only the last digit is different.  In Kubernetes, a pod's ip address is assigned in such a way that it also specify what node a given pod is on.  "
   ]
  },
  {
   "cell_type": "markdown",
   "metadata": {},
   "source": [
    "This way, if we were to make a request to a particular ip address, kubernetes can find the node the pod is located on, and then go to that particular pod.\n",
    "\n",
    "While we cannot make a request to any of these ip addresses from outside of the cluster, any pod in our cluster can make a request to any other pod through the ip address."
   ]
  },
  {
   "cell_type": "markdown",
   "metadata": {},
   "source": [
    "### But don't use IP addresses"
   ]
  },
  {
   "cell_type": "markdown",
   "metadata": {},
   "source": [
    "So as we saw, Kubernetes *does* allow us to connect to a pod through ip addresses.  But as developers we'll avoid working with these pod ip addresses directly for a couple of reasons:\n",
    "\n",
    "1. Remember that these pods can be destroyed and then recreated on a new node.  And with a new pod comes a new ip address.  So these ip addresses are not particularly stable - just like our pods aren't stable.  So we'll let our cluster keep track of all of the changing ip addresses.\n",
    "\n",
    "2. Also, we'll often have *replicas* of our pods (as in a deployment).  So we don't want to manage *which particular pod* the request gets made to.  We'll let Kubernetes handle that.  "
   ]
  },
  {
   "cell_type": "markdown",
   "metadata": {},
   "source": [
    "### Introducing Services"
   ]
  },
  {
   "cell_type": "markdown",
   "metadata": {},
   "source": [
    "So instead of using the pod ip addresses directly, we'll enable Kubernetes to make a request to any of a set of pods.  This called a service.\n",
    "\n",
    "> A **service** enables network access to a set of pods."
   ]
  },
  {
   "cell_type": "markdown",
   "metadata": {},
   "source": [
    "It does this by allowing us to map a single *virtual ip address* to a set of pods in the service.  So we'll make a request to a virtual ip address, and then the service will send us to one of the corresponding pods.   "
   ]
  },
  {
   "cell_type": "markdown",
   "metadata": {},
   "source": [
    "<img src=\"./api-service.jpg\" width=\"70%\">"
   ]
  },
  {
   "cell_type": "markdown",
   "metadata": {},
   "source": [
    "So with our service setup, we can have one of our frontend pods make a request to our service, and this request will then be passed along to one of the corresponding pods."
   ]
  },
  {
   "cell_type": "markdown",
   "metadata": {},
   "source": [
    "<img src=\"./domain-name.jpg\" width=\"60%\">"
   ]
  },
  {
   "cell_type": "markdown",
   "metadata": {},
   "source": [
    "Now before we finish, notice one more thing.  Our service has an ip address, but it has also been given a domain name.  So our client does not need to make a request to the ip address, but instead can reference the domain name.  \n",
    "\n",
    "In code, once we have our api-service setup, our frontend can make a request to it with something like the following."
   ]
  },
  {
   "cell_type": "markdown",
   "metadata": {},
   "source": [
    "```python\n",
    "import requests\n",
    "backend_ip = 'http://api-service:5000'\n",
    "response = requests.get(api)\n",
    "response.json()\n",
    "```"
   ]
  },
  {
   "cell_type": "markdown",
   "metadata": {},
   "source": [
    "### Summary"
   ]
  },
  {
   "cell_type": "markdown",
   "metadata": {},
   "source": [
    "In this lesson, we learned how we can make a request from one pod to another.  As we saw, every pod in Kubernetes is given it's own ip address, and each pod has access to every other pod through the ip address.  But because these ip addresses are unstable, and because we are happy to make a request to any one of the pods in a deployment, we will not be using these ip addresses directly.  Instead we create a service, which gives us a virtual ip address and a domain name.  We'll make a request to a domain name of a service, and this request will be passed along to a particular pod."
   ]
  },
  {
   "cell_type": "markdown",
   "metadata": {},
   "source": [
    "### Resources\n",
    "\n",
    "[Kubernetes Services Documentation](https://kubernetes.io/docs/concepts/services-networking/service/)\n",
    "\n",
    "[Networking in Kubernetes](https://matthewpalmer.net/kubernetes-app-developer/articles/kubernetes-networking-guide-beginners.html)"
   ]
  },
  {
   "cell_type": "markdown",
   "metadata": {},
   "source": [
    "[Inspecting Kubernetes Networking](https://www.digitalocean.com/community/tutorials/how-to-inspect-kubernetes-networking)"
   ]
  },
  {
   "cell_type": "markdown",
   "metadata": {},
   "source": [
    "[Networking Medium Blog](https://medium.com/google-cloud/understanding-kubernetes-networking-services-f0cb48e4cc82)\n",
    "\n",
    "[Kubeacademy](https://kube.academy/lessons/kube-proxy)"
   ]
  }
 ],
 "metadata": {
  "kernelspec": {
   "display_name": "Python 3",
   "language": "python",
   "name": "python3"
  },
  "language_info": {
   "codemirror_mode": {
    "name": "ipython",
    "version": 3
   },
   "file_extension": ".py",
   "mimetype": "text/x-python",
   "name": "python",
   "nbconvert_exporter": "python",
   "pygments_lexer": "ipython3",
   "version": "3.9.1"
  }
 },
 "nbformat": 4,
 "nbformat_minor": 4
}
