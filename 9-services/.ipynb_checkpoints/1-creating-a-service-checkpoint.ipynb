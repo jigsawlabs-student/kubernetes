{
 "cells": [
  {
   "cell_type": "markdown",
   "metadata": {},
   "source": [
    "# Creating a Service"
   ]
  },
  {
   "cell_type": "markdown",
   "metadata": {},
   "source": [
    "### Introduction"
   ]
  },
  {
   "cell_type": "markdown",
   "metadata": {},
   "source": [
    "Now that we understand a bit about how networking works in Kubernetes.  Let's create a service.  Remember that we use a service to allow access to a group of pods.   In this lesson, we'll create an *internal service*, which will allow a pod from one deployment to access pods from a different deployment.  Later on, we'll create an external service.  Let's go."
   ]
  },
  {
   "cell_type": "markdown",
   "metadata": {},
   "source": [
    "### Getting setup"
   ]
  },
  {
   "cell_type": "markdown",
   "metadata": {},
   "source": [
    "First we create our deployment."
   ]
  },
  {
   "cell_type": "markdown",
   "metadata": {},
   "source": [
    "```yaml\n",
    "# api-deployment.yaml\n",
    "apiVersion: apps/v1\n",
    "kind: Deployment\n",
    "metadata:\n",
    "  name: api-deployment\n",
    "spec:\n",
    "  replicas: 2\n",
    "  selector:\n",
    "    matchLabels:\n",
    "      component: api\n",
    "  template:\n",
    "    metadata:\n",
    "      labels:\n",
    "        component: api\n",
    "    spec:\n",
    "      containers:\n",
    "        - name: flask-api\n",
    "          image: jek2141/flask_api\n",
    "          ports:\n",
    "          - containerPort: 3000\n",
    "```"
   ]
  },
  {
   "cell_type": "markdown",
   "metadata": {},
   "source": [
    "And after running `kubectl apply -f api-deployment.yaml`, we can see that the container port 3000 on the pod is exposed -- and this is where the flask api is running.  Ok, now let's take a look at the config file for the corresponding service."
   ]
  },
  {
   "cell_type": "markdown",
   "metadata": {},
   "source": [
    "```yaml\n",
    "apiVersion: v1\n",
    "kind: Service\n",
    "metadata:\n",
    "  name: api-cluster-ip-service\n",
    "spec:\n",
    "  type: ClusterIP\n",
    "  selector: \n",
    "    component: api\n",
    "  ports: \n",
    "    - port: 3000\n",
    "      targetPort: 3000\n",
    "```"
   ]
  },
  {
   "cell_type": "markdown",
   "metadata": {},
   "source": [
    "The first few lines are pretty typical: we specify `apiVersion: v1` -- we are working with the core Kubernetes library -- and `kind: Service` along with a `name` key.  \n",
    "\n",
    "* **ClusterIP**\n",
    "    * In the spec, we specify a type of `ClusterIP`.  This is the type of service we use when allowing only internal requests -- here requests from another pod -- to access our service.  We'll handle external requests later.\n",
    "    \n",
    "* **Selector**\n",
    "    * With selector, we specify which pods to forward the requests to.  Here we'll forward requests to those pods with the label of `component: api`.\n",
    "    \n",
    "* **Ports** \n",
    "    * Under ports we'll specify the port that the service will be listening on, `port`, and then port that it forwards requests to, `targetPort`.  So here we'll make a request to the service on port 3000, and service will forward the request to one of the pods with the label `api` on the targetPort of 3000."
   ]
  },
  {
   "cell_type": "markdown",
   "metadata": {},
   "source": [
    "### Trying it Out"
   ]
  },
  {
   "cell_type": "markdown",
   "metadata": {},
   "source": [
    "Ok, so now we'll deploy the service.  \n",
    "\n",
    "`kubectl apply -f api-service.yaml`"
   ]
  },
  {
   "cell_type": "markdown",
   "metadata": {},
   "source": [
    "If we run `kubectl describe service` we can see some of the setup."
   ]
  },
  {
   "cell_type": "markdown",
   "metadata": {},
   "source": [
    "<img src=\"./describe-service.png\" width=\"90%\">"
   ]
  },
  {
   "cell_type": "markdown",
   "metadata": {},
   "source": [
    "Under ip we can see the virtual ip of the service.  And then, under endpoints, we see the pod endpoints that it points to."
   ]
  },
  {
   "cell_type": "markdown",
   "metadata": {},
   "source": [
    "Ok, now let's see if we can use our service to make request to our api from another pod.  So we'll write a yaml file called `flask-deployment.yaml` that will deploy two other pods.  "
   ]
  },
  {
   "cell_type": "markdown",
   "metadata": {},
   "source": [
    "`kubectl apply -f flask-deployment.yaml`"
   ]
  },
  {
   "cell_type": "markdown",
   "metadata": {},
   "source": [
    "> This also runs a flask app, but we're just going to use ensure we can make a request to the api service from a pod."
   ]
  },
  {
   "cell_type": "markdown",
   "metadata": {},
   "source": [
    "Then we'll connect to one of the flask deployment pods, and see if we can make a request to our service."
   ]
  },
  {
   "cell_type": "markdown",
   "metadata": {},
   "source": [
    "<img src=\"./making-the-request.png\" width=\"70%\">"
   ]
  },
  {
   "cell_type": "markdown",
   "metadata": {},
   "source": [
    "It looks like that worked!  Notice that we made the request just by specifying the name of the service, `api-cluster-ip-service:5000/locations`.  This routed a request to one of our pods and the pod sent back the response to the api-deployment pod, as we can see above."
   ]
  },
  {
   "cell_type": "markdown",
   "metadata": {},
   "source": [
    "### Summary"
   ]
  }
 ],
 "metadata": {
  "kernelspec": {
   "display_name": "Python 3",
   "language": "python",
   "name": "python3"
  },
  "language_info": {
   "codemirror_mode": {
    "name": "ipython",
    "version": 3
   },
   "file_extension": ".py",
   "mimetype": "text/x-python",
   "name": "python",
   "nbconvert_exporter": "python",
   "pygments_lexer": "ipython3",
   "version": "3.8.3"
  }
 },
 "nbformat": 4,
 "nbformat_minor": 4
}
