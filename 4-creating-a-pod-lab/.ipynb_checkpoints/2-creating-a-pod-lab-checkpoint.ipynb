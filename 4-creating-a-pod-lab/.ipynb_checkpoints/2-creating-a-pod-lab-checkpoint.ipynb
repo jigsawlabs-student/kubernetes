{
 "cells": [
  {
   "cell_type": "markdown",
   "metadata": {},
   "source": [
    "# Creating a Pod Lab"
   ]
  },
  {
   "cell_type": "markdown",
   "metadata": {},
   "source": [
    "### Introduction"
   ]
  },
  {
   "cell_type": "markdown",
   "metadata": {},
   "source": [
    "In this lesson, we'll create a pod in kubernetes, and practice using the kubernetes CLI.  Let's get started."
   ]
  },
  {
   "cell_type": "markdown",
   "metadata": {},
   "source": [
    "### Creating an Image and a Container"
   ]
  },
  {
   "cell_type": "markdown",
   "metadata": {},
   "source": [
    "If we look inside of the `apartments_api` folder, we'll see the `requirements.txt` file that contains all of the dependencies of our containing `api`.  And we'll see the DockerFile that will build an image that creates the api and the related environment.  \n",
    "\n",
    "Let's get started by building our image with the tag `< docker_name >/apartments_api`.\n",
    "\n",
    "```bash\n",
    "docker build -t jek2141/apartments_api .\n",
    "```"
   ]
  },
  {
   "cell_type": "markdown",
   "metadata": {},
   "source": [
    "Then, before we boot up the container, notice that in the `DockerFile` we have the flask api booting up on port 80.  So let's boot up the container and make sure that we expose that port."
   ]
  },
  {
   "cell_type": "markdown",
   "metadata": {},
   "source": [
    "We should visit the `/apartments` route and then see our list of apartments."
   ]
  },
  {
   "cell_type": "markdown",
   "metadata": {},
   "source": [
    "<img src=\"./apartments_json.png\" width=\"40%\">"
   ]
  },
  {
   "cell_type": "markdown",
   "metadata": {},
   "source": [
    "Ok, now let's push our image up to dockerhub.  This way we'll be able to pull it when we create a kubernetes pod."
   ]
  },
  {
   "cell_type": "markdown",
   "metadata": {},
   "source": [
    "<img src=\"./push_to_dockerhub.png\" width=\"60%\">"
   ]
  },
  {
   "cell_type": "markdown",
   "metadata": {},
   "source": [
    "### Creating our Pod"
   ]
  },
  {
   "cell_type": "markdown",
   "metadata": {},
   "source": [
    "Now it's time to turn use our image that we pushed to dockerhub and create a new pod in kubernetes.  We start with our yaml, file which we've created for you as `apartments-api-pod.yaml`.  We all filled in the top level keys that we'll need."
   ]
  },
  {
   "cell_type": "markdown",
   "metadata": {},
   "source": [
    "```yaml\n",
    "apiVersion:\n",
    "kind:\n",
    "metadata:\n",
    "spec:\n",
    "```"
   ]
  },
  {
   "cell_type": "markdown",
   "metadata": {},
   "source": [
    "Try not to look at the reading or outside resources as you fill in the rest of the information.  Instead use the command `kubectl apply -f apartments-api-pod.yaml` to create the pod.  \n",
    "\n",
    "> If we write it incorrectly, kubernetes provides some pretty good error messages for us -- we just need to get used to them.\n",
    "\n",
    "Upon success (it will come), we'll see the following:\n",
    "\n",
    "`pod/apartments-api created`"
   ]
  },
  {
   "cell_type": "markdown",
   "metadata": {},
   "source": [
    "### Working with our command line interface"
   ]
  },
  {
   "cell_type": "markdown",
   "metadata": {},
   "source": [
    "Now let's practice using the kubernetes CLI.  We can start by checking that our pod is running and ready.  Run the correct `kubectl` command to view our pods. "
   ]
  },
  {
   "cell_type": "markdown",
   "metadata": {},
   "source": [
    "```bash\n",
    "NAME             READY   STATUS    RESTARTS   AGE\n",
    "apartments-api   1/1     Running   0          119s\n",
    "```"
   ]
  },
  {
   "cell_type": "markdown",
   "metadata": {},
   "source": [
    "Then run the command to see more details about the `apartments-api` pod, including the `events` of pulling the image, creating and starting the new container."
   ]
  },
  {
   "cell_type": "markdown",
   "metadata": {},
   "source": [
    "<img src=\"./describe_pods.png\" width=\"70%\">"
   ]
  },
  {
   "cell_type": "markdown",
   "metadata": {},
   "source": [
    "Finally, connect to the container using the command line, and make a request to our API to confirm that it's running."
   ]
  },
  {
   "cell_type": "markdown",
   "metadata": {},
   "source": [
    "<img src=\"./curl_to_api.png\" width=\"90%\">"
   ]
  },
  {
   "cell_type": "markdown",
   "metadata": {},
   "source": [
    "### Summary"
   ]
  },
  {
   "cell_type": "code",
   "execution_count": null,
   "metadata": {},
   "outputs": [],
   "source": []
  }
 ],
 "metadata": {
  "kernelspec": {
   "display_name": "Python 3",
   "language": "python",
   "name": "python3"
  },
  "language_info": {
   "codemirror_mode": {
    "name": "ipython",
    "version": 3
   },
   "file_extension": ".py",
   "mimetype": "text/x-python",
   "name": "python",
   "nbconvert_exporter": "python",
   "pygments_lexer": "ipython3",
   "version": "3.8.3"
  }
 },
 "nbformat": 4,
 "nbformat_minor": 4
}
