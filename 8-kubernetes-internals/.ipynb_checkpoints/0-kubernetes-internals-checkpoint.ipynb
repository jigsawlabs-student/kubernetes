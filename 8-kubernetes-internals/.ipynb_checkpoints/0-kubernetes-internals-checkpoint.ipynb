{
 "cells": [
  {
   "cell_type": "markdown",
   "metadata": {},
   "source": [
    "# Kubernetes Internals"
   ]
  },
  {
   "cell_type": "markdown",
   "metadata": {},
   "source": [
    "### Introduction"
   ]
  },
  {
   "cell_type": "markdown",
   "metadata": {},
   "source": [
    "Now that we've through pods and deployments, and have seen first hand that Kubernetes will implement what's specified in our deployment, it's time to learn how Kubernetes achieves these features.  As we'll see there are various components at play.  Let's get started."
   ]
  },
  {
   "cell_type": "markdown",
   "metadata": {},
   "source": [
    "### Cluster, Master and Nodes"
   ]
  },
  {
   "cell_type": "markdown",
   "metadata": {},
   "source": [
    "As we know when we deploy a kubernetes deployment, we write the configuration file (eg. `api-deployment.yaml`), and then run `kubectl -f apply <config-file>.yaml`.  In the deployment configuration files, we specify what image we want running and the number of replicas we prefer.  Kubernetes will then work to implement create the specified number of containers across the machines that are available.  So how does this happen?"
   ]
  },
  {
   "cell_type": "markdown",
   "metadata": {},
   "source": [
    "Well when we run `kubectl -f apply <config-file>.yaml`, we are making use of the **Kubernetes API** to interact with our **master** which determines where to create each container, and then sends instructions to the appropriate computers or **nodes** to create the corresponding container.  \n",
    "\n",
    "Ok, we just introduced a few new terms here.  So let's define them.\n",
    "\n",
    "* **Kubernetes API:** We use the Kubernetes API whenever we type in `kubectl` to use the command line interface.  The Kubernetes API lets us query and manipulate the state of API objects in Kubernetes.  For example, when we run `kubectl -f apply api-deployment.yaml` we passing our configuration file to the API to update our deployment.\n",
    "\n",
    "* **Master/Control Plane** The kubernetes API passes these instructions to the master.  The master is in charge of determining and what changes to make, and where (on which computers) they should be made.  All of the events that we saw thus far of creating or destroying new pods were under the directive of the master. \n",
    "\n",
    "> The master is also called the control plane.\n",
    "\n",
    "* **Nodes** The nodes are the host computers or virtual machines that implement instructions of the master.  When we mention different nodes, you can think different computers.  So after the master determines where to update the new pods, it sends instructions to the relevant nodes to perform the update. Thes nodes perform the work, and tell the master when the task is completed.  \n",
    "\n",
    "> Nodes are sometimes referred to as the data plane.\n",
    "\n",
    "* **Cluster** A kubernetes cluster is the combination of our control plane and one or more nodes."
   ]
  },
  {
   "cell_type": "markdown",
   "metadata": {},
   "source": [
    "### Control Plane Details"
   ]
  },
  {
   "cell_type": "markdown",
   "metadata": {},
   "source": [
    "Ok, now the master or control plane is really the brains of our Kubernetes cluster.  And it involves a number of parts."
   ]
  },
  {
   "cell_type": "markdown",
   "metadata": {},
   "source": [
    "* **API server**: The Kubernetes API that we previously described is actually part of the control plane.  It's our entrypoint to the master, and the way we send it instructions.  The API server also keeps track of what the desired state is in the cluster.\n",
    "\n",
    "\n",
    "* **The Master Controller**: Controllers are components that are monitoring the API server and reacting to changes.  It keeps an in memory cache of the intention and the actual state (etcd), and then has a simple loop that then notices when the actual and desired state differs, it kicks off an action to rectify this.\n",
    "\n",
    "* **The scheduler**:  After the master server determines that a new pod should be created, the scheduler takes over.  The scheduler notices that there is a new pod that has not been scheduled, and runs an algorithm to determine the best node for that pod.  The scheduler then tells the API server what node the pod should be created on.  And the API server will update the desired state of the pods across it's nodes.  And the nodes will take action."
   ]
  },
  {
   "cell_type": "markdown",
   "metadata": {},
   "source": [
    "### Nodes"
   ]
  },
  {
   "cell_type": "markdown",
   "metadata": {},
   "source": [
    "* **Node agents**: The nodes have an agent called the kubelet, which is watching the API server and reacting.  So when the API server is updated by the Scheduler to have a new pod running say on node 2.  The node agent on that node will notice that there is no corresponding pod, and will boot up a new pod.\n",
    "\n",
    "* **Container Runtime** The nodes are also running a container runtime, like our Docker software.  To bootup the containers on the pod, the node will send commands to the Docker system running on the node."
   ]
  },
  {
   "cell_type": "markdown",
   "metadata": {},
   "source": [
    "Ok, that was a lot.  We don't have to understand all of it, but perhaps a diagram can help bring things together."
   ]
  },
  {
   "cell_type": "markdown",
   "metadata": {},
   "source": [
    "<img src=\"./kubernetes.jpg\" width=\"60%\">"
   ]
  },
  {
   "cell_type": "markdown",
   "metadata": {},
   "source": [
    "Let's think about what happens if we decide to change the number of pods from 2 to 1.  We'll send that instruction to the API server.  The API server then passes these instructions to the scheduler which determines which pod to delete.  The schedule sends the determination to the API server which makes a change to the record for the node whose pod should be deleted.  And the kubelet on that node then notices the change, and removes the pod. "
   ]
  },
  {
   "cell_type": "markdown",
   "metadata": {},
   "source": [
    "### Summary"
   ]
  },
  {
   "cell_type": "markdown",
   "metadata": {},
   "source": [
    "### Resources\n",
    "\n",
    "[K8s Self-Healing](https://www.youtube.com/watch?v=91dgNqma7-Q&ab_channel=CNCF%5BCloudNativeComputingFoundation%5D)"
   ]
  },
  {
   "cell_type": "markdown",
   "metadata": {},
   "source": [
    "[Kubernetes Components](https://kubernetes.io/docs/concepts/overview/components/)"
   ]
  }
 ],
 "metadata": {
  "kernelspec": {
   "display_name": "Python 3",
   "language": "python",
   "name": "python3"
  },
  "language_info": {
   "codemirror_mode": {
    "name": "ipython",
    "version": 3
   },
   "file_extension": ".py",
   "mimetype": "text/x-python",
   "name": "python",
   "nbconvert_exporter": "python",
   "pygments_lexer": "ipython3",
   "version": "3.8.3"
  }
 },
 "nbformat": 4,
 "nbformat_minor": 4
}
