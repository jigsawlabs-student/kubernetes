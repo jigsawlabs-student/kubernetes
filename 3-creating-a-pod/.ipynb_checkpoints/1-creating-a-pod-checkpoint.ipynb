{
 "cells": [
  {
   "cell_type": "markdown",
   "metadata": {},
   "source": [
    "# Creating Pods"
   ]
  },
  {
   "cell_type": "markdown",
   "metadata": {},
   "source": [
    "### Introduction\n",
    "\n",
    "In Docker, as we saw, we divide our application up into containers.  In Kubernetes, we'll work with pods.  Just like with containers in Docker, pods will be the way that we divide up our application into different microservies.  So we can begin by thinking of pods just like a container, and we'll work out some of the finer distinctions later."
   ]
  },
  {
   "cell_type": "markdown",
   "metadata": {},
   "source": [
    "### Specifying the Pod"
   ]
  },
  {
   "cell_type": "markdown",
   "metadata": {},
   "source": [
    "Now a pod is just a thin wrapper around a container.  To start, we will only have one Docker container in each pod."
   ]
  },
  {
   "cell_type": "markdown",
   "metadata": {},
   "source": [
    "<img src=\"./kube-pods.jpg\" width=\"40%\">"
   ]
  },
  {
   "cell_type": "markdown",
   "metadata": {},
   "source": [
    "Now let's create our first pod.  To do so, we write a yaml file that looks like the following:"
   ]
  },
  {
   "cell_type": "markdown",
   "metadata": {},
   "source": [
    "> Take a glance and see what makes sense to you."
   ]
  },
  {
   "cell_type": "markdown",
   "metadata": {},
   "source": [
    "```yaml\n",
    "# flask-api-pod.yaml\n",
    "apiVersion: v1\n",
    "kind: Pod\n",
    "metadata:\n",
    "  name: flask-api\n",
    "  labels:\n",
    "      component: api\n",
    "spec:\n",
    "  containers:\n",
    "  - name: flask_api\n",
    "    image: jek2141/flask_api\n",
    "    ports:\n",
    "    - containerPort: 5000\n",
    "```"
   ]
  },
  {
   "cell_type": "markdown",
   "metadata": {},
   "source": [
    "Ok, let's make sense of the above contents.  Focus in on the top level keys to the left.\n",
    "\n",
    "* apiVersion and kind\n",
    "* metadata\n",
    "* spec\n",
    "\n",
    "Here's what these do"
   ]
  },
  {
   "cell_type": "markdown",
   "metadata": {},
   "source": [
    "**1. Create a Pod with apiVersion and Kind**\n",
    "\n",
    "We use `apiVersion` and `kind` to tell kubernetes what type of object we would like to create.  Here it specifies a pod.\n",
    "\n",
    "* The `apiVersion` tells us the API group and API version used to create the object.  Normally it's formatted as `api_group/verson`.  But pods are in the core group, so we leave out our group specification. \n",
    "\n",
    "* `kind` is used to specify the type of object that is created.  So far we only know about pods -- our container-like objects -- but there are more.\n",
    "\n",
    "**2. Label our Pod with Metadata** \n",
    "\n",
    "Metadata is used so that we can identify our pod with a name or labels. \n",
    "\n",
    "**3. Add Contents with Spec** \n",
    "\n",
    "Then we specify the contents of the pod with the spec.  Here, our pod has a container.  So we give our container a name.  And then specify where kubernetes can find the image used to build the container  -- on dockerhub under that repository.  Finally, we specify the container port to expose -- 5000."
   ]
  },
  {
   "cell_type": "markdown",
   "metadata": {},
   "source": [
    "Ok now let's take another look at the yaml file and see what we understand."
   ]
  },
  {
   "cell_type": "markdown",
   "metadata": {},
   "source": [
    "```yaml\n",
    "# flask-api-pod.yaml\n",
    "apiVersion: v1\n",
    "kind: Pod\n",
    "metadata:\n",
    "  name: flask-api\n",
    "  labels:\n",
    "      component: api\n",
    "spec:\n",
    "  containers:\n",
    "  - name: flask_api\n",
    "    image: jek2141/flask_api\n",
    "    ports:\n",
    "    - containerPort: 5000\n",
    "```"
   ]
  },
  {
   "cell_type": "markdown",
   "metadata": {},
   "source": [
    "If you would like more information, use the kubectl command.  Run `kubectl explain pod` to see some excellent documentation on pods and the related yaml."
   ]
  },
  {
   "cell_type": "markdown",
   "metadata": {},
   "source": [
    "`kubectl explain pod`"
   ]
  },
  {
   "cell_type": "markdown",
   "metadata": {},
   "source": [
    "And for any of the `subobjects` of pod, we can view the documentation with dot notation like the following. "
   ]
  },
  {
   "cell_type": "markdown",
   "metadata": {},
   "source": [
    "`kubectl explain pod.metadata`"
   ]
  },
  {
   "cell_type": "markdown",
   "metadata": {},
   "source": [
    "### Creating and Exploring The Pod"
   ]
  },
  {
   "cell_type": "markdown",
   "metadata": {},
   "source": [
    "Ok, now it's time to send our file to kubernetes. To do so, we first need to make sure that our kubernetes cluster is booted up with `minikube`. \n",
    "\n",
    "`minikube start --vm-driver=hyperkit`\n",
    "\n",
    "And from there, we can create our pod:\n",
    "\n",
    "<img src=\"./create_pods.png\" width=\"60%\">"
   ]
  },
  {
   "cell_type": "markdown",
   "metadata": {},
   "source": [
    "```bash\n",
    "NAME        READY   STATUS              RESTARTS   AGE\n",
    "flask-api   0/1     ContainerCreating   0          7s\n",
    "```\n",
    "\n",
    "Once we see that our pod was created, kubernetes will go through the task of pulling our image for us.  We can see how it's doing with `kubectl get pods`.\n",
    "\n",
    "```bash\n",
    "kubectl get pods\n",
    "\n",
    "NAME        READY   STATUS    RESTARTS   AGE\n",
    "flask-api   1/1     Running   0          2m44s\n",
    "```"
   ]
  },
  {
   "cell_type": "markdown",
   "metadata": {},
   "source": [
    "It may take some time to boot up our pod (say a minute or so).  We'll know that everything is setup when we see `Ready: 1/1` listed under get pods.  We can see even more details about what is involved with `kubectl describe pods flask-api`.  This will show us detailed information about the pod, including events involved in building the container."
   ]
  },
  {
   "cell_type": "markdown",
   "metadata": {},
   "source": [
    "<img src=\"./pod-events.png\" width=\"80%\">"
   ]
  },
  {
   "cell_type": "markdown",
   "metadata": {},
   "source": [
    "From here, we can connect to our container in our pod by running the following:"
   ]
  },
  {
   "cell_type": "markdown",
   "metadata": {},
   "source": [
    "`kubectl exec -it flask-api sh`"
   ]
  },
  {
   "cell_type": "markdown",
   "metadata": {},
   "source": [
    "<img src=\"./make_request_on_pod.png\" width=\"60%\">"
   ]
  },
  {
   "cell_type": "markdown",
   "metadata": {},
   "source": [
    "### Summary"
   ]
  },
  {
   "cell_type": "markdown",
   "metadata": {},
   "source": [
    "In this lesson, we learned how to create a pod using kubernetes.  We saw that a pod wraps our docker container and our fundamental object that we work with kubernetes.  We can think of our pod in a similar manner to how we think of containers in docker -- it is the fundamental unit that allows us to divide up our application into different components (or services).\n",
    "\n",
    "We created our pod with a yaml file with the following top level keys:\n",
    "\n",
    "* apiVersion and kind\n",
    "* metadata\n",
    "* spec\n",
    "\n",
    "Remember that `apiVersion` and `kind` are used to specify that we are creating a Pod located in the K8s core library, version one.  Then metadata is where we add information like our name and labels.  \n",
    "\n",
    "Finally, we use `spec` to specify the contents of the pod.  Below this means specifying the container that runs inside of the pod.  We give the container a `name` `image` and bind to a `port`. \n",
    "\n",
    "\n",
    "```yaml\n",
    "# flask-api-pod.yaml\n",
    "apiVersion: v1\n",
    "kind: Pod\n",
    "metadata:\n",
    "  name: flask-api\n",
    "spec:\n",
    "  containers:\n",
    "  - name: flask_api\n",
    "    image: jek2141/flask_api\n",
    "    ports:\n",
    "    - containerPort: 5000\n",
    "```"
   ]
  },
  {
   "cell_type": "markdown",
   "metadata": {},
   "source": [
    "We then create our pod with the command:\n",
    "    \n",
    "`kubectl apply -f flask-api-pod.yaml`\n",
    "\n",
    "And we can view our pods with `kubectl get pods` or the more detailed `kubectl describe pods`.  Finally, we saw that we can connect to a container in a pod with `kubectl exec -it flask-api sh`."
   ]
  }
 ],
 "metadata": {
  "kernelspec": {
   "display_name": "Python 3",
   "language": "python",
   "name": "python3"
  },
  "language_info": {
   "codemirror_mode": {
    "name": "ipython",
    "version": 3
   },
   "file_extension": ".py",
   "mimetype": "text/x-python",
   "name": "python",
   "nbconvert_exporter": "python",
   "pygments_lexer": "ipython3",
   "version": "3.9.1"
  }
 },
 "nbformat": 4,
 "nbformat_minor": 4
}
