{
 "cells": [
  {
   "cell_type": "markdown",
   "metadata": {},
   "source": [
    "* [Debugging Services](https://kubernetes.io/docs/tasks/debug-application-cluster/debug-service/)\n",
    "\n",
    "\n",
    "* [Debugging Pods](https://kubernetes.io/docs/tasks/debug-application-cluster/debug-running-pod/)\n",
    "\n",
    "* [Pods and Replication](https://kubernetes.io/docs/tasks/debug-application-cluster/debug-pod-replication-controller/)\n",
    "\n",
    "* [All debug notes](https://kubernetes.io/docs/tasks/debug-application-cluster/)"
   ]
  }
 ],
 "metadata": {
  "kernelspec": {
   "display_name": "Python 3",
   "language": "python",
   "name": "python3"
  },
  "language_info": {
   "codemirror_mode": {
    "name": "ipython",
    "version": 3
   },
   "file_extension": ".py",
   "mimetype": "text/x-python",
   "name": "python",
   "nbconvert_exporter": "python",
   "pygments_lexer": "ipython3",
   "version": "3.9.1"
  }
 },
 "nbformat": 4,
 "nbformat_minor": 4
}
