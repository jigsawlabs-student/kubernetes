{
 "cells": [
  {
   "cell_type": "markdown",
   "metadata": {},
   "source": [
    "# Creating a Deployment"
   ]
  },
  {
   "cell_type": "markdown",
   "metadata": {},
   "source": [
    "### Introduction"
   ]
  },
  {
   "cell_type": "markdown",
   "metadata": {},
   "source": [
    "Now so far we have learned about pods in Kubernetes.  In Kubernetes, pods are the fundamental unit that we work with to organize our application.  But, as we'll see, we normally do not create pods directly. Instead we'll create a pod through a deployment.  With a deployment, we'll begin to see some of the benefits of using kubernetes.  As we'll see, with deployments, we can create multiple replicas of the same pod, update these replicas, and get automatic rollbacks if there is an error.  Ok, let's get to it."
   ]
  },
  {
   "cell_type": "markdown",
   "metadata": {},
   "source": [
    "### Why Deployments"
   ]
  },
  {
   "cell_type": "markdown",
   "metadata": {},
   "source": [
    "Remember that when we manager our applications, we may need not just one pod performing a task, but multiple pods performing that exact same task.  For example, think of our pod that runs our flask api.  If our web traffic increases, that pod may get overloaded with requests, and we'll want to create multiple pods that perform the exact same task."
   ]
  },
  {
   "cell_type": "markdown",
   "metadata": {},
   "source": [
    "A **deployment** let's us *manage* an identical set of pods, and serves as a parent object to those pods.  With a deployment, we describe how many replicas of a pod we would prefer, and can update those pods as a unit."
   ]
  },
  {
   "cell_type": "markdown",
   "metadata": {},
   "source": [
    "<img src=\"./api-deployment-2.jpg\" width=\"60%\">"
   ]
  },
  {
   "cell_type": "markdown",
   "metadata": {},
   "source": [
    "### Creating a Deployment"
   ]
  },
  {
   "cell_type": "markdown",
   "metadata": {},
   "source": [
    "Ok, let's get started.  To create our deployment, we fill in information for the same top level keys as we saw in our pod yaml file.\n",
    "\n",
    "```yaml\n",
    "apiVersion:\n",
    "kind:\n",
    "metadata:\n",
    "spec:\n",
    "```"
   ]
  },
  {
   "cell_type": "markdown",
   "metadata": {},
   "source": [
    "For our deployment, the object is part of the apps module, so apiVersion is `apps/v1`, and the object type is `Deployment`.  Just like previously we specify the name of the object here `api-deployment` under `metadata`.\n",
    "\n",
    "```yaml\n",
    "apiVersion: apps/v1\n",
    "kind: Deployment\n",
    "metadata:\n",
    "  name: api-deployment\n",
    "spec:\n",
    "  replicas: 2\n",
    "  template:\n",
    "```"
   ]
  },
  {
   "cell_type": "markdown",
   "metadata": {},
   "source": [
    "The contents of the spec key looks different.  To begin with, we now use the `replicas` key to specify the number of pods we would like deployed.  And if we continue, we specify the type of deployment with the `template` key.  The template key is where we specify the details of the pods that make up the deployment.  Let's see that below.  "
   ]
  },
  {
   "cell_type": "markdown",
   "metadata": {},
   "source": [
    "### Specifying the Pod"
   ]
  },
  {
   "cell_type": "markdown",
   "metadata": {},
   "source": [
    "So now that we have worked through the `apiVersion`, `kind`, and `metadata` and `replicas` in a deployment, the next step is define the pod that we are replicating.  This comes under the `spec.template` key.  If we look at it below, notice that we specify our `metadata` and `spec` for the pod in precisely the same way that we did in initially creating the pod. \n",
    "\n",
    "```yaml\n",
    "apiVersion: apps/v1\n",
    "kind: Deployment\n",
    "metadata:\n",
    "  name: api-deployment\n",
    "spec:\n",
    "  replicas: 2\n",
    "  template:\n",
    "    metadata:\n",
    "      labels:\n",
    "        component: api\n",
    "    spec:\n",
    "      containers:\n",
    "        - name: flask-api\n",
    "          image: jek2141/flask_api\n",
    "          ports:\n",
    "          - containerPort: 5000\n",
    "```\n",
    "\n",
    "So the keys under template, specify our pod by filling in the `metadata` and `spec` keys just like before.  \n",
    "\n",
    "> This time around, we do not specify `kind: Pod`, as a deployment always creates a Pod. \n",
    "\n",
    "So we can think of our deployment file in two parts: the top level keys pertaining to the deployment, and the `spec.template` that describes the template of the pod we are deploying."
   ]
  },
  {
   "cell_type": "markdown",
   "metadata": {},
   "source": [
    "### Connecting the Deployment and the Pod"
   ]
  },
  {
   "cell_type": "markdown",
   "metadata": {},
   "source": [
    "There is one last bit of work that we need to do before our deployment is complete.  We need to explicitly tell the deployment what pods it will be managing.  We do so with a `spec.selector.matchLabels` key."
   ]
  },
  {
   "cell_type": "markdown",
   "metadata": {},
   "source": [
    "```yaml\n",
    "apiVersion: apps/v1\n",
    "kind: Deployment\n",
    "metadata:\n",
    "  name: api-deployment\n",
    "spec:\n",
    "  replicas: 2\n",
    "  selector:\n",
    "    matchLabels:\n",
    "      component: api\n",
    "  template:\n",
    "    metadata:\n",
    "      labels:\n",
    "        component: api\n",
    "    spec:\n",
    "      containers:\n",
    "        - name: flask-api\n",
    "          image: jek2141/flask_api\n",
    "          ports:\n",
    "          - containerPort: 5000\n",
    "```"
   ]
  },
  {
   "cell_type": "markdown",
   "metadata": {},
   "source": [
    "The above says to find or create any pods with the label of `component: api` and then update the cluster so that they have the specified container and number of replicas."
   ]
  },
  {
   "cell_type": "markdown",
   "metadata": {},
   "source": [
    "### Creating our Deployment"
   ]
  },
  {
   "cell_type": "markdown",
   "metadata": {},
   "source": [
    "Now that we've filled in the yaml file for a deployment, it's time to create it.  We can do so with our apply function."
   ]
  },
  {
   "cell_type": "markdown",
   "metadata": {},
   "source": [
    "`kubectl apply -f api-deployment.yaml`"
   ]
  },
  {
   "cell_type": "markdown",
   "metadata": {},
   "source": [
    "And if we look we'll see that we are creating two different pods, each with the specified containers."
   ]
  },
  {
   "cell_type": "markdown",
   "metadata": {},
   "source": [
    "<img src=\"./api-deployments.png\" width=\"80%\">"
   ]
  },
  {
   "cell_type": "markdown",
   "metadata": {},
   "source": [
    "We can also view the deployment itself.  "
   ]
  },
  {
   "cell_type": "markdown",
   "metadata": {},
   "source": [
    "And because the deployment *manages* the collection of replica pods, we can always decrease the number of pods or change their image with a change to the deployment file."
   ]
  },
  {
   "cell_type": "markdown",
   "metadata": {},
   "source": [
    "```yaml\n",
    "apiVersion: apps/v1\n",
    "kind: Deployment\n",
    "metadata:\n",
    "  name: api-deployment\n",
    "spec:\n",
    "  replicas: 1\n",
    "  template:\n",
    "    metadata:\n",
    "      labels:\n",
    "        component: api\n",
    "    spec:\n",
    "      containers:\n",
    "        - name: flask-api\n",
    "          image: jek2141/flask_api:v1\n",
    "          ports:\n",
    "          - containerPort: 5000\n",
    "```"
   ]
  },
  {
   "cell_type": "markdown",
   "metadata": {},
   "source": [
    "`kubectl apply -f api-deployment.yaml`"
   ]
  },
  {
   "cell_type": "markdown",
   "metadata": {},
   "source": [
    "> Above decreasing the number of replicas from two to one, will lead kubernetes to remove one of the pods, and changing the image to `flask_api:v1` will lead kubernetes to pull down the new image and upgrade the container on the still existing pod."
   ]
  },
  {
   "cell_type": "markdown",
   "metadata": {},
   "source": [
    "### Summary"
   ]
  },
  {
   "cell_type": "markdown",
   "metadata": {},
   "source": [
    "In the lifecycle of our application, we may want to have replicas of a single pod so that we can scale up certain microservices.  In this lesson, we saw how we can use a deployment to manage a collection of replica pods through a deployment.  We can use a deployment to initially create a set of replica pods, but then change the number of replicas, or change the running container.  Our config file allows to manage all of this.\n",
    "\n",
    "```yaml\n",
    "apiVersion: apps/v1\n",
    "kind: Deployment\n",
    "metadata:\n",
    "  name: api-deployment\n",
    "spec:\n",
    "  replicas: 1\n",
    "  template:\n",
    "    metadata:\n",
    "      labels:\n",
    "        component: api\n",
    "    spec:\n",
    "      containers:\n",
    "        - name: flask-api\n",
    "          image: jek2141/flask_api:v1\n",
    "          ports:\n",
    "          - containerPort: 5000\n",
    "```\n",
    "\n",
    "We simply need to change the specified replicas, or alter the image value, and then run `kubectl apply -f api-deployment.yaml`.  Kubernetes will then take care of updating the our deployment so it matches our specifications."
   ]
  },
  {
   "cell_type": "markdown",
   "metadata": {},
   "source": [
    "### Resources\n",
    "\n",
    "[Pods, ReplicaSets and Deployments Blog](https://blog.macstadium.com/blog/how-to-k8s-pods-replicasets-and-deployments)"
   ]
  }
 ],
 "metadata": {
  "kernelspec": {
   "display_name": "Python 3",
   "language": "python",
   "name": "python3"
  },
  "language_info": {
   "codemirror_mode": {
    "name": "ipython",
    "version": 3
   },
   "file_extension": ".py",
   "mimetype": "text/x-python",
   "name": "python",
   "nbconvert_exporter": "python",
   "pygments_lexer": "ipython3",
   "version": "3.9.1"
  }
 },
 "nbformat": 4,
 "nbformat_minor": 4
}
