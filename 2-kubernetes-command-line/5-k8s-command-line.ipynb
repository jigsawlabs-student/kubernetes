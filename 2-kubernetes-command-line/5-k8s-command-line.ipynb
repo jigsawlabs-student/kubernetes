{
 "cells": [
  {
   "cell_type": "markdown",
   "metadata": {},
   "source": [
    "# CLI and Declarative vs Imperative"
   ]
  },
  {
   "cell_type": "markdown",
   "metadata": {},
   "source": [
    "* Talk about creating a pod. from the command line.  \n",
    "\n",
    "* Deleting a pod from the command line.  \n",
    "\n",
    "* Get pods.\n",
    "\n",
    "* Describe pods specific pod.\n",
    "\n",
    "* applying watch \n",
    "\n",
    "* Match labels"
   ]
  },
  {
   "cell_type": "markdown",
   "metadata": {},
   "source": [
    "If you would like more information, use the kubectl command.  Run `kubectl explain pod` to see some excellent documentation on pods and the related yaml."
   ]
  },
  {
   "cell_type": "markdown",
   "metadata": {},
   "source": [
    "`kubectl explain pod`"
   ]
  },
  {
   "cell_type": "markdown",
   "metadata": {},
   "source": [
    "And for any of the `subobjects` of pod, we can view the documentation with dot notation like the following. "
   ]
  },
  {
   "cell_type": "markdown",
   "metadata": {},
   "source": [
    "`kubectl explain pod.metadata`"
   ]
  }
 ],
 "metadata": {
  "kernelspec": {
   "display_name": "Python 3",
   "language": "python",
   "name": "python3"
  },
  "language_info": {
   "codemirror_mode": {
    "name": "ipython",
    "version": 3
   },
   "file_extension": ".py",
   "mimetype": "text/x-python",
   "name": "python",
   "nbconvert_exporter": "python",
   "pygments_lexer": "ipython3",
   "version": "3.9.1"
  }
 },
 "nbformat": 4,
 "nbformat_minor": 4
}
